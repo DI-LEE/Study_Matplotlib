{
 "cells": [
  {
   "cell_type": "markdown",
   "id": "dcd60e90",
   "metadata": {},
   "source": [
    "# matplotlib"
   ]
  },
  {
   "cell_type": "markdown",
   "id": "71b96503",
   "metadata": {},
   "source": [
    "matplotlib.pyplot 라이브러리 import"
   ]
  },
  {
   "cell_type": "code",
   "execution_count": 1,
   "id": "06412fbc",
   "metadata": {},
   "outputs": [],
   "source": [
    "import matplotlib.pyplot as plt"
   ]
  },
  {
   "cell_type": "markdown",
   "id": "d0489fa2",
   "metadata": {},
   "source": [
    "# Pie Charts\n",
    "* good for **numerical proportion**\n",
    "* 비율을 나타낼 때 좋은 chart"
   ]
  },
  {
   "cell_type": "code",
   "execution_count": 26,
   "id": "bcdbf140",
   "metadata": {},
   "outputs": [],
   "source": [
    "def make_chart_pie_chart():\n",
    "    #plt.pie([x,y]) -> x+y = 1\n",
    "    plt.pie([0.95, 0.05], labels=[\"Uses pie charts\",\"knows better\"])\n",
    "    plt.axis(\"equal\")"
   ]
  },
  {
   "cell_type": "code",
   "execution_count": 27,
   "id": "81f076e4",
   "metadata": {},
   "outputs": [
    {
     "data": {
      "image/png": "[encoded data removed]",
      "text/plain": [
       "<Figure size 432x288 with 1 Axes>"
      ]
     },
     "metadata": {},
     "output_type": "display_data"
    }
   ],
   "source": [
    "make_chart_pie_chart()"
   ]
  }
 ],
 "metadata": {
  "kernelspec": {
   "display_name": "Python 3 (ipykernel)",
   "language": "python",
   "name": "python3"
  },
  "language_info": {
   "codemirror_mode": {
    "name": "ipython",
    "version": 3
   },
   "file_extension": ".py",
   "mimetype": "text/x-python",
   "name": "python",
   "nbconvert_exporter": "python",
   "pygments_lexer": "ipython3",
   "version": "3.9.7"
  }
 },
 "nbformat": 4,
 "nbformat_minor": 5
}
